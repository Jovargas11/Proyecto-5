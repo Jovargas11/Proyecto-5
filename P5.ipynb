{
  "nbformat": 4,
  "nbformat_minor": 0,
  "metadata": {
    "colab": {
      "name": "P5 (entregable).ipynb",
      "provenance": []
    },
    "kernelspec": {
      "name": "python3",
      "display_name": "Python 3"
    },
    "language_info": {
      "name": "python"
    }
  },
  "cells": [
    {
      "cell_type": "markdown",
      "metadata": {
        "id": "GN1p3zgEDyYB"
      },
      "source": [
        "---\n",
        "### Universidad de Costa Rica\n",
        "#### IE0405 - Modelos Probabilísticos de Señales y Sistemas\n",
        "---\n",
        "\n",
        "- Estudiante: **Carolina Urrutia Nuñez**,**Josué Vargas Matamoros**, ****\n",
        "- Carné: **B77833**, **B37321**,\n",
        "- Grupo: **1/2**\n",
        "\n",
        "\n",
        "# `P5` - *Procesos M/M/s*\n",
        "\n",
        "> El caso especial de los procesos aleatorios donde existen \"estados\" y \"transiciones\" entre estos estados, las cadenas de Markov modelan las probabilidades de transición y el tiempo de permanencia entre cada estado. En particular, la teoría de colas describe la evolución del número de elementos en la fila, dado un flujo de entrada y un flujo de salida.\n",
        "\n"
      ]
    },
    {
      "cell_type": "markdown",
      "metadata": {
        "id": "ONeSktEvEdjK"
      },
      "source": [
        "---\n",
        "## 2. - Asignaciones\n",
        "\n",
        "Es menester tomar una decisión con respecto al número de \"servidores\" necesarios para cierto proceso de vacunación, de forma tal que el sistema no exceda 100 personas en fila durante el 95% del tiempo de servicio. \n",
        "\n",
        "En un estudio de afluencia y del tiempo de servicio se asumen y determinan los siguientes parámetros:\n",
        "\n",
        "- La tasa de llegada $\\lambda$ es constante durante ocho horas de funcionamiento y tiene un valor de $\\lambda = 7$ personas por minuto.\n",
        "\n",
        "- La tasa de servicio $\\nu$ de cada \"servidor\" (es decir, personal de salud tomando datos y vacunando) es constante durante ocho horas de funcionamiento y tiene un valor de $\\nu = 0.25$ personas por minuto.\n",
        "\n",
        "\n",
        "\n",
        "#### Primera parte\n",
        "- (40%) Hacer la determinación teórica del número $s$ de servidores necesarios para cumplir el requisito.\n",
        "\n",
        "Primeramente, la ecuación para $\\rho$ es:\n",
        "\n",
        "$$\n",
        "\\rho= \\frac{\\lambda}{sv}\n",
        "$$\n",
        "\n",
        "Sustituyendo  con los valores mencionados arriba:\n",
        "\n",
        "$$\n",
        "\\rho= \\frac{7}{s0.25} = \\frac{28}{s}\n",
        "$$\n",
        "\n",
        "Ahora, se considera la suma de probabilidad de estado estable, donde se toma la consideración de las 100 personas, y esta no debe superar el 95% del tiempo, por lo tanto la condición para que no supere el 5% es:\n",
        "\n",
        "$$\n",
        "P( \\text{101 o más clientes en el sistema} ) = \\sum_{i=101}^{\\infty} (1 - \\rho) \\rho^i  = 1 - \\sum_{i=0}^{100} (1 - \\rho) \\rho^i = \\rho^{100}\n",
        "$$\n",
        "\n",
        "Sustituyendo el valor de \\rho en la ecuación anterior, se tiene que:\n",
        "\n",
        "$$\n",
        "\\rho^{101} \\leq 0.05 \\\\\n",
        "\\left(\\frac{28}{s}\\right)^{101} \\leq 0.05 \\\\\n",
        "\\frac{28^{101}}{s^{101}} \\leq 0.05 \\\\\n",
        "\\frac{28^{101}}{0.05} \\leq s^{101} \\\\\n",
        "\\sqrt[101]{\\frac{28^{101}}{0.05}} \\leq s \\\\\n",
        "28\\sqrt[101]{\\frac{1}{0.05}} \\leq s \\\\\n",
        "28.8429 \\leq s \\\\\n",
        "$$\n",
        "\n",
        "Esto indica que se necesitarían al menos 29 servidores para no superar el 95% de tiempo.\n",
        "\n",
        "\n",
        "#### Segunda parte\n",
        "- (60%) Modificar el código provisto para simular y corroborar el resultado anterior y crear al menos dos gráficas que muestren esta simulación."
      ]
    },
    {
      "cell_type": "markdown",
      "metadata": {
        "id": "joT-La38Gxhc"
      },
      "source": [
        "#### Primer caso: Se probará cuando $s \\geq 28.8429$"
      ]
    },
    {
      "cell_type": "code",
      "metadata": {
        "colab": {
          "base_uri": "https://localhost:8080/",
          "height": 402
        },
        "id": "dJmFMty2DjeM",
        "outputId": "fbd422d2-bb91-449b-9b84-657f57c3c787"
      },
      "source": [
        "import numpy as np\n",
        "from scipy import stats\n",
        "import matplotlib.pyplot as plt\n",
        "\n",
        "# Número de clientes\n",
        "N = 2000\n",
        "\n",
        "# Parámetro de llegada (clientes/segundos)\n",
        "lam = 7/60\n",
        "\n",
        "# Parámetro de servicio (servicios/segundos)\n",
        "nu = 0.25*29/60\n",
        "\n",
        "# Distribución de los tiempos de llegada entre cada cliente\n",
        "X = stats.expon(scale = 1/lam)\n",
        "\n",
        "# Distribución de los tiempos de servicio a cada cliente\n",
        "Y = stats.expon(scale = 1/(nu))\n",
        "\n",
        "# Intervalos entre llegadas (segundos desde último cliente)\n",
        "t_intervalos = np.ceil(X.rvs(N)).astype('int')\n",
        "\n",
        "# Tiempos de las llegadas (segundos desde el inicio)\n",
        "t_llegadas = [t_intervalos[0]]\n",
        "for i in range(1, len(t_intervalos)):\n",
        "    siguiente = t_llegadas[i-1] + t_intervalos[i]\n",
        "    t_llegadas.append(siguiente)\n",
        "\n",
        "# Tiempos de servicio (segundos desde inicio de servicio)\n",
        "t_servicio = np.ceil(Y.rvs(N)).astype('int')\n",
        "\n",
        "# Inicialización del tiempo de inicio y fin de atención\n",
        "inicio = t_llegadas[0]          # primera llegada\n",
        "fin = inicio + t_servicio[0]    # primera salida\n",
        "\n",
        "# Tiempos en que recibe atención cada i-ésimo cliente (!= que llega)\n",
        "t_atencion = [inicio]\n",
        "for i in range(1, N):\n",
        "    inicio = np.max((t_llegadas[i], fin))\n",
        "    fin = inicio + t_servicio[i]\n",
        "    t_atencion.append(inicio)\n",
        "\n",
        "# Inicialización del vector temporal para registrar eventos\n",
        "t = np.zeros(t_atencion[-1] + t_servicio[-1] + 1)\n",
        "\n",
        "# Asignación de eventos de llegada (+1) y salida (-1) de clientes\n",
        "for c in range(N):\n",
        "    i = t_llegadas[c]\n",
        "    t[i] += 1\n",
        "    j = t_atencion[c] + t_servicio[c]\n",
        "    t[j] -= 1\n",
        "\n",
        "# Umbral de P o más personas en sistema (hay P - 1 en fila)\n",
        "P = 100\n",
        "\n",
        "# Instantes (segundos) de tiempo con P o más solicitudes en sistema\n",
        "exceso = 0\n",
        "\n",
        "# Proceso aleatorio (estados n = {0, 1, 2...})\n",
        "Xt = np.zeros(t.shape)\n",
        "\n",
        "# Inicialización de estado n\n",
        "n = 0\n",
        "\n",
        "# Recorrido del vector temporal y conteo de clientes (estado n)\n",
        "for i, c in enumerate(t):\n",
        "    n += c # sumar (+1) o restar (-1) al estado\n",
        "    Xt[i] = n\n",
        "    if Xt[i] <= P: \n",
        "        exceso += 1\n",
        "\n",
        "# Fracción de tiempo con P o más solicitudes en sistema\n",
        "fraccion = exceso / len(t)\n",
        "\n",
        "# Resultados\n",
        "print('Parámetro lambda =', str(lam*60))\n",
        "print('Parámetro nu =', str(nu*60))\n",
        "print('Servidores s =', str(29))\n",
        "print('Tiempo con igual a {} solicitudes en fila:'.format(P))\n",
        "print('\\t {:0.2f}%'.format(100*fraccion))\n",
        "if fraccion >= 0.95:\n",
        "    print('\\t Sí cumple con la especificación.')\n",
        "else:\n",
        "    print('\\t No cumple con la especificación.') \n",
        "print('Simulación es equivalente a {:0.2f} horas.'.format(len(t)/3600))\n",
        "\n",
        "# Gráfica de X(t) (estados del sistema)\n",
        "plt.figure()\n",
        "plt.plot(Xt)\n",
        "plt.plot(range(len(t)), (P-1)*np.ones(t.shape))\n",
        "plt.legend(('$X(t) = n$', '$L_q = $' + str(P)))\n",
        "plt.ylabel('Clientes en el sistema, $n$')\n",
        "plt.xlabel('Tiempo, $t$ / segundos')\n",
        "plt.xlim((0, 5000))\n",
        "plt.show()"
      ],
      "execution_count": 3,
      "outputs": [
        {
          "output_type": "stream",
          "text": [
            "Parámetro lambda = 7.0\n",
            "Parámetro nu = 7.25\n",
            "Servidores s = 29\n",
            "Tiempo con igual a 100 solicitudes en fila:\n",
            "\t 100.00%\n",
            "\t Sí cumple con la especificación.\n",
            "Simulación es equivalente a 5.03 horas.\n"
          ],
          "name": "stdout"
        },
        {
          "output_type": "display_data",
          "data": {
            "image/png": "[encoded data removed]",
            "text/plain": [
              "<Figure size 432x288 with 1 Axes>"
            ]
          },
          "metadata": {
            "tags": [],
            "needs_background": "light"
          }
        }
      ]
    },
    {
      "cell_type": "markdown",
      "metadata": {
        "id": "MJJzpLyeHqK9"
      },
      "source": [
        "Se puede apreciar que se cumple con la teoría y los cálculos realizados en la parte uno, ya que $s = 29 \\geq 28.8429$."
      ]
    },
    {
      "cell_type": "markdown",
      "metadata": {
        "id": "qbr6taLDIce5"
      },
      "source": [
        "#### Caso dos: Se probará cuando  $s < 28.8429$"
      ]
    },
    {
      "cell_type": "code",
      "metadata": {
        "colab": {
          "base_uri": "https://localhost:8080/",
          "height": 402
        },
        "id": "PVRTrArrIv3i",
        "outputId": "d2675da8-9a8c-45ba-f1f6-da0b519add78"
      },
      "source": [
        "import numpy as np\n",
        "from scipy import stats\n",
        "import matplotlib.pyplot as plt\n",
        "\n",
        "# Número de clientes\n",
        "N = 2000\n",
        "\n",
        "# Parámetro de llegada (clientes/segundos)\n",
        "lam = 7/60\n",
        "\n",
        "# Parámetro de servicio (servicios/segundos)\n",
        "nu = 0.25*10/60\n",
        "\n",
        "# Distribución de los tiempos de llegada entre cada cliente\n",
        "X = stats.expon(scale = 1/lam)\n",
        "\n",
        "# Distribución de los tiempos de servicio a cada cliente\n",
        "Y = stats.expon(scale = 1/(nu))\n",
        "\n",
        "# Intervalos entre llegadas (segundos desde último cliente)\n",
        "t_intervalos = np.ceil(X.rvs(N)).astype('int')\n",
        "\n",
        "# Tiempos de las llegadas (segundos desde el inicio)\n",
        "t_llegadas = [t_intervalos[0]]\n",
        "for i in range(1, len(t_intervalos)):\n",
        "    siguiente = t_llegadas[i-1] + t_intervalos[i]\n",
        "    t_llegadas.append(siguiente)\n",
        "\n",
        "# Tiempos de servicio (segundos desde inicio de servicio)\n",
        "t_servicio = np.ceil(Y.rvs(N)).astype('int')\n",
        "\n",
        "# Inicialización del tiempo de inicio y fin de atención\n",
        "inicio = t_llegadas[0]          # primera llegada\n",
        "fin = inicio + t_servicio[0]    # primera salida\n",
        "\n",
        "# Tiempos en que recibe atención cada i-ésimo cliente (!= que llega)\n",
        "t_atencion = [inicio]\n",
        "for i in range(1, N):\n",
        "    inicio = np.max((t_llegadas[i], fin))\n",
        "    fin = inicio + t_servicio[i]\n",
        "    t_atencion.append(inicio)\n",
        "\n",
        "# Inicialización del vector temporal para registrar eventos\n",
        "t = np.zeros(t_atencion[-1] + t_servicio[-1] + 1)\n",
        "\n",
        "# Asignación de eventos de llegada (+1) y salida (-1) de clientes\n",
        "for c in range(N):\n",
        "    i = t_llegadas[c]\n",
        "    t[i] += 1\n",
        "    j = t_atencion[c] + t_servicio[c]\n",
        "    t[j] -= 1\n",
        "\n",
        "# Umbral de P o más personas en sistema (hay P - 1 en fila)\n",
        "P = 100\n",
        "\n",
        "# Instantes (segundos) de tiempo con P o más solicitudes en sistema\n",
        "exceso = 0\n",
        "\n",
        "# Proceso aleatorio (estados n = {0, 1, 2...})\n",
        "Xt = np.zeros(t.shape)\n",
        "\n",
        "# Inicialización de estado n\n",
        "n = 0\n",
        "\n",
        "# Recorrido del vector temporal y conteo de clientes (estado n)\n",
        "for i, c in enumerate(t):\n",
        "    n += c # sumar (+1) o restar (-1) al estado\n",
        "    Xt[i] = n\n",
        "    if Xt[i] <= P: \n",
        "        exceso += 1\n",
        "\n",
        "# Fracción de tiempo con P o más solicitudes en sistema\n",
        "fraccion = exceso / len(t)\n",
        "\n",
        "# Resultados\n",
        "print('Parámetro lambda =', str(lam*60))\n",
        "print('Parámetro nu =', str(nu*60))\n",
        "print('Servidores s =', str(10))\n",
        "print('Tiempo con igual a {} solicitudes en fila:'.format(P))\n",
        "print('\\t {:0.2f}%'.format(100*fraccion))\n",
        "if fraccion >= 0.95:\n",
        "    print('\\t Sí cumple con la especificación.')\n",
        "else:\n",
        "    print('\\t No cumple con la especificación.') \n",
        "print('Simulación es equivalente a {:0.2f} horas.'.format(len(t)/3600))\n",
        "\n",
        "# Gráfica de X(t) (estados del sistema)\n",
        "plt.figure()\n",
        "plt.plot(Xt)\n",
        "plt.plot(range(len(t)), (P-1)*np.ones(t.shape))\n",
        "plt.legend(('$X(t) = n$', '$L_q = $' + str(P)))\n",
        "plt.ylabel('Clientes en el sistema, $n$')\n",
        "plt.xlabel('Tiempo, $t$ / segundos')\n",
        "plt.xlim((0, 5000))\n",
        "plt.show()"
      ],
      "execution_count": 5,
      "outputs": [
        {
          "output_type": "stream",
          "text": [
            "Parámetro lambda = 7.0\n",
            "Parámetro nu = 2.5\n",
            "Servidores s = 10\n",
            "Tiempo con igual a 100 solicitudes en fila:\n",
            "\t 7.63%\n",
            "\t No cumple con la especificación.\n",
            "Simulación es equivalente a 13.18 horas.\n"
          ],
          "name": "stdout"
        },
        {
          "output_type": "display_data",
          "data": {
            "image/png": "[encoded data removed]",
            "text/plain": [
              "<Figure size 432x288 with 1 Axes>"
            ]
          },
          "metadata": {
            "tags": [],
            "needs_background": "light"
          }
        }
      ]
    },
    {
      "cell_type": "markdown",
      "metadata": {
        "id": "uBkJCRytJfQy"
      },
      "source": [
        "Se puede apreciar que conforme a lo calculado en la primera parte, cuando $s = 10 < 28.8429$ no se cumple con la especificación."
      ]
    },
    {
      "cell_type": "markdown",
      "metadata": {
        "id": "J8cpqbclJvAv"
      },
      "source": [
        "---\n",
        "\n",
        "**Universidad de Costa Rica**\n",
        "\n",
        "Facultad de Ingeniería\n",
        "\n",
        "Escuela de Ingeniería Eléctrica\n",
        "\n",
        "---"
      ]
    }
  ]
}